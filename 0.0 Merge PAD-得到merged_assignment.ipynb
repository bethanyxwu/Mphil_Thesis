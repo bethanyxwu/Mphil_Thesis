{
 "cells": [
  {
   "cell_type": "code",
   "execution_count": 11,
   "metadata": {
    "colab": {
     "base_uri": "https://localhost:8080/"
    },
    "executionInfo": {
     "elapsed": 3303,
     "status": "ok",
     "timestamp": 1713606258336,
     "user": {
      "displayName": "Christy",
      "userId": "07435429021048351607"
     },
     "user_tz": -480
    },
    "id": "kpgL_3Fd_wOR",
    "outputId": "8fc59409-a1f6-4a42-dbf4-1667e9802f3a"
   },
   "outputs": [
    {
     "name": "stdout",
     "output_type": "stream",
     "text": [
      "Drive already mounted at /content/drive; to attempt to forcibly remount, call drive.mount(\"/content/drive\", force_remount=True).\n"
     ]
    }
   ],
   "source": [
    "from google.colab import drive\n",
    "# 挂载谷歌云盘\n",
    "drive.mount('/content/drive')"
   ]
  },
  {
   "cell_type": "markdown",
   "metadata": {
    "id": "WtscAJTWAUGO"
   },
   "source": [
    "可以独立拆分为的专利转让记录：A -P -A\n",
    "\n",
    "1. 一个assignor - 一个patent - 一个assignee； ✓\n",
    "\n",
    "2. 一个assignor - 多个patent - 一个assignee； ✓\n",
    "\n",
    "3. 一个assignor - 一个patent - 多个assignee； ✓\n",
    "\n",
    "4. 一个assignor - 多个patent - 多个assignee； × （patent和assignee无法确定)\n",
    "\n",
    "5. 多个assignor - 一个patent - 一个assignee；✓\n",
    "\n",
    "6. 多个assignor - 多个patent - 一个assignee； ×（assignor和patent无法确定）\n",
    "\n",
    "7. 多个assignor - 一个patent - 多个assignee； ✓\n",
    "\n",
    "8. 多个assignor - 多个patent - 多个assignee； ×\n",
    "\n",
    "\n",
    "\n",
    "我要确保每条提取出来的转让记录都是能够确定：这个assignee从某个assignor中确实获得了某个patent。\n",
    "\n",
    "所以，我要采用保守的筛选方法，仅拆分出确定满足以上条件的样本。【assignor和patent确定可以对应 & patent和assignee确定可以对应】"
   ]
  },
  {
   "cell_type": "markdown",
   "metadata": {
    "id": "hqYAHZ-rWzH6"
   },
   "source": [
    "所以，我先外部合并五张表，然后提取出符合条件的有效rf_id，然后用这个有效rf_id列表去筛选merged_df"
   ]
  },
  {
   "cell_type": "code",
   "execution_count": null,
   "metadata": {
    "id": "4wI_MM1TAYJt"
   },
   "outputs": [],
   "source": [
    "!unzip \"/content/drive/MyDrive/PAD_csv.zip\" -d \"/content/drive/MyDrive/PAD_csv/\""
   ]
  },
  {
   "cell_type": "code",
   "execution_count": 12,
   "metadata": {
    "colab": {
     "base_uri": "https://localhost:8080/"
    },
    "executionInfo": {
     "elapsed": 199386,
     "status": "ok",
     "timestamp": 1713606459600,
     "user": {
      "displayName": "Christy",
      "userId": "07435429021048351607"
     },
     "user_tz": -480
    },
    "id": "L_DLWloOAYRy",
    "outputId": "b6eb32d2-49be-46da-dd81-9c1c0f59a361"
   },
   "outputs": [
    {
     "name": "stderr",
     "output_type": "stream",
     "text": [
      "<ipython-input-12-a7de44cdc416>:10: DtypeWarning: Columns (6) have mixed types. Specify dtype option on import or set low_memory=False.\n",
      "  assignment_df = pd.read_csv(assignment_path)\n",
      "<ipython-input-12-a7de44cdc416>:11: DtypeWarning: Columns (3) have mixed types. Specify dtype option on import or set low_memory=False.\n",
      "  assignor_df = pd.read_csv(assignor_path)\n",
      "<ipython-input-12-a7de44cdc416>:13: DtypeWarning: Columns (7,8) have mixed types. Specify dtype option on import or set low_memory=False.\n",
      "  documentid_df = pd.read_csv(documentid_path)\n"
     ]
    }
   ],
   "source": [
    "import pandas as pd\n",
    "\n",
    "# 打开pad原始文件\n",
    "assignment_path = '/content/drive/MyDrive/PAD_csv/assignment.csv'\n",
    "assignor_path = '/content/drive/MyDrive/PAD_csv/assignor.csv'\n",
    "assignee_path = '/content/drive/MyDrive/PAD_csv/assignee.csv'\n",
    "documentid_path = '/content/drive/MyDrive/PAD_csv/documentid.csv'\n",
    "assignment_conveyance_path = '/content/drive/MyDrive/PAD_csv/assignment_conveyance.csv'\n",
    "\n",
    "assignment_df = pd.read_csv(assignment_path)\n",
    "assignor_df = pd.read_csv(assignor_path)\n",
    "assignee_df = pd.read_csv(assignee_path)\n",
    "documentid_df = pd.read_csv(documentid_path)\n",
    "assignment_conveyance_df = pd.read_csv(assignment_conveyance_path)"
   ]
  },
  {
   "cell_type": "code",
   "execution_count": null,
   "metadata": {
    "colab": {
     "base_uri": "https://localhost:8080/"
    },
    "executionInfo": {
     "elapsed": 8,
     "status": "ok",
     "timestamp": 1713375972934,
     "user": {
      "displayName": "Christy",
      "userId": "07435429021048351607"
     },
     "user_tz": -480
    },
    "id": "Z8g8S0gLAYTr",
    "outputId": "739c6b9a-1129-4ad1-f99c-180d6246aa50"
   },
   "outputs": [
    {
     "name": "stdout",
     "output_type": "stream",
     "text": [
      "['rf_id', 'file_id', 'cname', 'caddress_1', 'caddress_2', 'caddress_3', 'caddress_4', 'reel_no', 'frame_no', 'convey_text', 'record_dt', 'last_update_dt', 'page_count', 'purge_in']\n"
     ]
    }
   ],
   "source": [
    "# 打印所有列名\n",
    "print(assignment_df.columns.tolist())"
   ]
  },
  {
   "cell_type": "code",
   "execution_count": null,
   "metadata": {
    "colab": {
     "base_uri": "https://localhost:8080/"
    },
    "executionInfo": {
     "elapsed": 6,
     "status": "ok",
     "timestamp": 1713375972934,
     "user": {
      "displayName": "Christy",
      "userId": "07435429021048351607"
     },
     "user_tz": -480
    },
    "id": "yhavhc6LAcws",
    "outputId": "f1412442-029f-414c-b6c4-2b7f515e96a7"
   },
   "outputs": [
    {
     "name": "stdout",
     "output_type": "stream",
     "text": [
      "['rf_id', 'or_name', 'exec_dt', 'ack_dt']\n"
     ]
    }
   ],
   "source": [
    "# 打印所有列名\n",
    "print(assignor_df.columns.tolist())"
   ]
  },
  {
   "cell_type": "code",
   "execution_count": null,
   "metadata": {
    "colab": {
     "base_uri": "https://localhost:8080/"
    },
    "executionInfo": {
     "elapsed": 5,
     "status": "ok",
     "timestamp": 1713375972934,
     "user": {
      "displayName": "Christy",
      "userId": "07435429021048351607"
     },
     "user_tz": -480
    },
    "id": "ACbL6u74Aczi",
    "outputId": "e4d1e748-1d0f-4062-8abc-5b0b2bf4fb3f"
   },
   "outputs": [
    {
     "name": "stdout",
     "output_type": "stream",
     "text": [
      "['rf_id', 'ee_name', 'ee_address_1', 'ee_address_2', 'ee_city', 'ee_state', 'ee_postcode', 'ee_country']\n"
     ]
    }
   ],
   "source": [
    "# 打印所有列名\n",
    "print(assignee_df.columns.tolist())"
   ]
  },
  {
   "cell_type": "code",
   "execution_count": null,
   "metadata": {
    "colab": {
     "base_uri": "https://localhost:8080/"
    },
    "executionInfo": {
     "elapsed": 4,
     "status": "ok",
     "timestamp": 1713375972934,
     "user": {
      "displayName": "Christy",
      "userId": "07435429021048351607"
     },
     "user_tz": -480
    },
    "id": "26gQzQK2Ac1u",
    "outputId": "43ae7b87-38f6-4d83-dbaf-cbfcabcacbae"
   },
   "outputs": [
    {
     "name": "stdout",
     "output_type": "stream",
     "text": [
      "['rf_id', 'title', 'lang', 'appno_doc_num', 'appno_date', 'appno_country', 'pgpub_doc_num', 'pgpub_date', 'pgpub_country', 'grant_doc_num', 'grant_date', 'grant_country']\n"
     ]
    }
   ],
   "source": [
    "# 打印所有列名\n",
    "print(documentid_df.columns.tolist())"
   ]
  },
  {
   "cell_type": "code",
   "execution_count": null,
   "metadata": {
    "colab": {
     "base_uri": "https://localhost:8080/"
    },
    "executionInfo": {
     "elapsed": 3,
     "status": "ok",
     "timestamp": 1713375972934,
     "user": {
      "displayName": "Christy",
      "userId": "07435429021048351607"
     },
     "user_tz": -480
    },
    "id": "G2npS7otAc4N",
    "outputId": "06e8db5b-1a8d-4d15-e927-a8479622a6c8"
   },
   "outputs": [
    {
     "name": "stdout",
     "output_type": "stream",
     "text": [
      "['rf_id', 'convey_ty', 'employer_assign']\n"
     ]
    }
   ],
   "source": [
    "# 打印所有列名\n",
    "print(assignment_conveyance_df.columns.tolist())"
   ]
  },
  {
   "cell_type": "code",
   "execution_count": 13,
   "metadata": {
    "executionInfo": {
     "elapsed": 6802,
     "status": "ok",
     "timestamp": 1713606466400,
     "user": {
      "displayName": "Christy",
      "userId": "07435429021048351607"
     },
     "user_tz": -480
    },
    "id": "6Qbs3u1CAc6I"
   },
   "outputs": [],
   "source": [
    "# 删除rf_id列中的缺失值\n",
    "assignment_df.dropna(subset=['rf_id'], inplace=True)\n",
    "assignor_df.dropna(subset=['rf_id'], inplace=True)\n",
    "\n",
    "assignee_df.dropna(subset=['rf_id'], inplace=True)\n",
    "documentid_df.dropna(subset=['rf_id'], inplace=True)\n",
    "assignment_conveyance_df.dropna(subset=['rf_id'], inplace=True)"
   ]
  },
  {
   "cell_type": "code",
   "execution_count": 14,
   "metadata": {
    "executionInfo": {
     "elapsed": 77234,
     "status": "ok",
     "timestamp": 1713606543631,
     "user": {
      "displayName": "Christy",
      "userId": "07435429021048351607"
     },
     "user_tz": -480
    },
    "id": "Kgtl75ayAu67"
   },
   "outputs": [],
   "source": [
    "# 转换rf_id列为字符串，并去除可能的前后空格\n",
    "assignment_df['rf_id'] = assignment_df['rf_id'].astype(str).str.strip()\n",
    "assignor_df['rf_id'] = assignor_df['rf_id'].astype(str).str.strip()\n",
    "assignee_df['rf_id'] = assignee_df['rf_id'].astype(str).str.strip()\n",
    "documentid_df['rf_id'] = documentid_df['rf_id'].astype(str).str.strip()\n",
    "assignment_conveyance_df['rf_id'] = assignment_conveyance_df['rf_id'].astype(str).str.strip()\n",
    "\n",
    "# 删除空字符串的样本\n",
    "assignment_df = assignment_df[assignment_df['rf_id'] != '']\n",
    "assignor_df = assignor_df[assignor_df['rf_id'] != '']\n",
    "\n",
    "assignee_df = assignee_df[assignee_df['rf_id'] != '']\n",
    "documentid_df = documentid_df[documentid_df['rf_id'] != '']\n",
    "\n",
    "assignment_conveyance_df = assignment_conveyance_df[assignment_conveyance_df['rf_id'] != '']"
   ]
  },
  {
   "cell_type": "code",
   "execution_count": 15,
   "metadata": {
    "colab": {
     "base_uri": "https://localhost:8080/"
    },
    "executionInfo": {
     "elapsed": 613,
     "status": "ok",
     "timestamp": 1713606544240,
     "user": {
      "displayName": "Christy",
      "userId": "07435429021048351607"
     },
     "user_tz": -480
    },
    "id": "NeRYqZvY-VcU",
    "outputId": "1226178f-ead5-416c-8ce4-3a0d9a49bc77"
   },
   "outputs": [
    {
     "name": "stdout",
     "output_type": "stream",
     "text": [
      "缺失值的个数： 0\n",
      "空字符串的个数： 0\n"
     ]
    }
   ],
   "source": [
    "# 计算缺失值的数量\n",
    "missing_values_count = assignment_conveyance_df['convey_ty'].isna().sum()\n",
    "# 计算空字符串的数量\n",
    "empty_string_count = (assignment_conveyance_df['convey_ty'] == '').sum()\n",
    "print(\"缺失值的个数：\", missing_values_count)\n",
    "print(\"空字符串的个数：\", empty_string_count)"
   ]
  },
  {
   "cell_type": "code",
   "execution_count": 16,
   "metadata": {
    "colab": {
     "base_uri": "https://localhost:8080/"
    },
    "executionInfo": {
     "elapsed": 554,
     "status": "ok",
     "timestamp": 1713606544792,
     "user": {
      "displayName": "Christy",
      "userId": "07435429021048351607"
     },
     "user_tz": -480
    },
    "id": "wzX5-D3p-ad-",
    "outputId": "d4029a9f-c4c6-418b-cd86-e2138c1a272d"
   },
   "outputs": [
    {
     "name": "stdout",
     "output_type": "stream",
     "text": [
      "缺失值的个数： 0\n",
      "空字符串的个数： 0\n"
     ]
    }
   ],
   "source": [
    "# 计算缺失值的数量\n",
    "missing_values_count = assignment_conveyance_df['employer_assign'].isna().sum()\n",
    "# 计算空字符串的数量\n",
    "empty_string_count = (assignment_conveyance_df['employer_assign'] == '').sum()\n",
    "print(\"缺失值的个数：\", missing_values_count)\n",
    "print(\"空字符串的个数：\", empty_string_count)"
   ]
  },
  {
   "cell_type": "code",
   "execution_count": null,
   "metadata": {
    "colab": {
     "base_uri": "https://localhost:8080/"
    },
    "executionInfo": {
     "elapsed": 1664,
     "status": "ok",
     "timestamp": 1713424087094,
     "user": {
      "displayName": "Christy",
      "userId": "07435429021048351607"
     },
     "user_tz": -480
    },
    "id": "5fl5RyHS-hMl",
    "outputId": "e93752e9-7378-4194-ac56-6cbcfc31a3a0"
   },
   "outputs": [
    {
     "name": "stdout",
     "output_type": "stream",
     "text": [
      "缺失值的个数： 7939\n",
      "空字符串的个数： 0\n"
     ]
    }
   ],
   "source": [
    "# 计算缺失值的数量\n",
    "missing_values_count = assignor_df['exec_dt'].isna().sum()\n",
    "# 计算空字符串的数量\n",
    "empty_string_count = (assignor_df['exec_dt'] == '').sum()\n",
    "print(\"缺失值的个数：\", missing_values_count)\n",
    "print(\"空字符串的个数：\", empty_string_count)"
   ]
  },
  {
   "cell_type": "code",
   "execution_count": null,
   "metadata": {
    "id": "-LkdumVIMmYB"
   },
   "outputs": [],
   "source": [
    "import numpy as np\n",
    "# 使用 numpy.where 来将 exec_dt 列中的缺失值转换为空字符串，其他保持不变\n",
    "assignor_df['exec_dt'] = np.where(assignor_df['exec_dt'].isna(), '', assignor_df['exec_dt'])\n",
    "# 删除 exec_dt 为空字符串的样本\n",
    "assignor_df = assignor_df[assignor_df['exec_dt'] != '']\n",
    "# 将 exec_dt 转换为 datetime 类型，无效日期（如空字符串）转换为 NaT\n",
    "assignor_df['exec_dt'] = pd.to_datetime(assignor_df['exec_dt'], errors='coerce', format='%Y-%m-%d')"
   ]
  },
  {
   "cell_type": "code",
   "execution_count": null,
   "metadata": {
    "id": "C7nhr1nFK1me"
   },
   "outputs": [],
   "source": [
    "# 对一个字段操作前的基本步骤：\n",
    "#1. 删除rf_id列中的缺失值\n",
    "assignor_df.dropna(subset=['or_name'], inplace=True)\n",
    "# 2.转换列为字符串，并去除可能的前后空格\n",
    "assignor_df['or_name'] = assignor_df['or_name'].astype(str).str.strip()\n",
    "#3.# 删除空字符串的样本\n",
    "assignor_df = assignor_df[assignor_df['or_name'] != '']\n",
    "\n",
    "# 对一个字段操作前的基本步骤：\n",
    "#1. 删除rf_id列中的缺失值\n",
    "assignee_df.dropna(subset=['ee_name'], inplace=True)\n",
    "# 2.转换列为字符串，并去除可能的前后空格\n",
    "assignee_df['ee_name'] = assignee_df['ee_name'].astype(str).str.strip()\n",
    "#3.# 删除空字符串的样本\n",
    "assignee_df = assignee_df[assignee_df['ee_name'] != '']\n",
    "\n",
    "# 对一个字段操作前的基本步骤：\n",
    "#1. 删除rf_id列中的缺失值\n",
    "documentid_df.dropna(subset=['grant_doc_num'], inplace=True)\n",
    "# 2.转换列为字符串，并去除可能的前后空格\n",
    "documentid_df['grant_doc_num'] = documentid_df['grant_doc_num'].astype(str).str.strip()\n",
    "#3.# 删除空字符串的样本\n",
    "documentid_df = documentid_df[documentid_df['grant_doc_num'] != '']\n",
    "\n",
    "# 对一个字段操作前的基本步骤：\n",
    "#1. 删除rf_id列中的缺失值\n",
    "assignment_conveyance_df.dropna(subset=['convey_ty'], inplace=True)\n",
    "# 2.转换列为字符串，并去除可能的前后空格\n",
    "assignment_conveyance_df['convey_ty'] = assignment_conveyance_df['convey_ty'].astype(str).str.strip()\n",
    "#3.# 删除空字符串的样本\n",
    "assignment_conveyance_df = assignment_conveyance_df[assignment_conveyance_df['convey_ty'] != '']\n",
    "\n",
    "# 转换数据类型为整数\n",
    "assignment_conveyance_df['employer_assign'] = assignment_conveyance_df['employer_assign'].astype(int)"
   ]
  },
  {
   "cell_type": "markdown",
   "metadata": {
    "id": "w6s6SXVm_EVd"
   },
   "source": [
    "接下来，建立有效的rf_id列表，然后用有效的rf_id列表来过滤merged_df"
   ]
  },
  {
   "cell_type": "code",
   "execution_count": null,
   "metadata": {
    "id": "p0GW5SY7_clj"
   },
   "outputs": [],
   "source": [
    "# 第一步：满足大前提的 rf_id"
   ]
  },
  {
   "cell_type": "code",
   "execution_count": null,
   "metadata": {
    "id": "uRCckZsk_coL"
   },
   "outputs": [],
   "source": [
    "import pandas as pd\n",
    "\n",
    "# 大前提：convey_ty 为 'assignment' 且 employer_assign 为 0\n",
    "valid_rf_ids_premise = assignment_conveyance_df[\n",
    "    (assignment_conveyance_df['convey_ty'] == 'assignment') &\n",
    "    (assignment_conveyance_df['employer_assign'] == 0)\n",
    "]['rf_id'].unique()\n"
   ]
  },
  {
   "cell_type": "code",
   "execution_count": null,
   "metadata": {
    "id": "9lnwRnmh_cqX"
   },
   "outputs": [],
   "source": [
    "# 第二步：根据多个条件筛选唯一的 rf_id"
   ]
  },
  {
   "cell_type": "code",
   "execution_count": null,
   "metadata": {
    "id": "_RpsbJh1_cs4"
   },
   "outputs": [],
   "source": [
    "# 找出每个 df 中唯一的 rf_id\n",
    "unique_rf_ids_assignor = assignor_df['rf_id'].drop_duplicates(keep=False)\n",
    "unique_rf_ids_documentid = documentid_df['rf_id'].drop_duplicates(keep=False)\n",
    "unique_rf_ids_assignee = assignee_df['rf_id'].drop_duplicates(keep=False)\n",
    "\n",
    "# 合并不同的条件组合并去重\n",
    "from functools import reduce\n",
    "\n",
    "# 条件①\n",
    "cond1 = set(unique_rf_ids_assignor) & set(unique_rf_ids_documentid) & set(unique_rf_ids_assignee)\n",
    "\n",
    "# 条件②\n",
    "cond2 = set(unique_rf_ids_assignor) & set(unique_rf_ids_assignee)\n",
    "\n",
    "# 条件③\n",
    "cond3 = set(unique_rf_ids_assignor) & set(unique_rf_ids_documentid)\n",
    "\n",
    "# 条件④\n",
    "cond4 = set(unique_rf_ids_assignee) & set(unique_rf_ids_documentid)\n",
    "\n",
    "# 条件⑤\n",
    "cond5 = set(unique_rf_ids_documentid)\n",
    "\n",
    "# 并集所有条件\n",
    "all_conditions = reduce(set.union, [cond1, cond2, cond3, cond4, cond5])\n",
    "\n",
    "# 转换为 list\n",
    "all_conditions_list = list(all_conditions)\n"
   ]
  },
  {
   "cell_type": "code",
   "execution_count": null,
   "metadata": {
    "id": "9FJtpxvG_cvN"
   },
   "outputs": [],
   "source": [
    "# 第三步：合并大前提的 rf_id 和条件筛选得到的结果"
   ]
  },
  {
   "cell_type": "code",
   "execution_count": null,
   "metadata": {
    "id": "DznEamlT_cxx"
   },
   "outputs": [],
   "source": [
    "# 将大前提 rf_id 与条件筛选的 rf_id 进行交集运算\n",
    "final_valid_rf_ids = list(set(valid_rf_ids_premise) & set(all_conditions_list))"
   ]
  },
  {
   "cell_type": "markdown",
   "metadata": {
    "id": "M_sbxRqCAe_y"
   },
   "source": [
    "结果\n",
    "最终，final_valid_rf_ids 将是一个包含所有满足上述条件的 rf_id 的列表。你可以使用这个列表来过滤其他数据集，确保只处理符合条件的转让记录。"
   ]
  },
  {
   "cell_type": "code",
   "execution_count": null,
   "metadata": {
    "colab": {
     "base_uri": "https://localhost:8080/"
    },
    "executionInfo": {
     "elapsed": 175610,
     "status": "ok",
     "timestamp": 1713425112779,
     "user": {
      "displayName": "Christy",
      "userId": "07435429021048351607"
     },
     "user_tz": -480
    },
    "id": "K2uURxIe_c0H",
    "outputId": "b85c410f-75b1-4166-f282-60db73457aa8"
   },
   "outputs": [
    {
     "name": "stdout",
     "output_type": "stream",
     "text": [
      "初始总样本数: 21927718\n"
     ]
    }
   ],
   "source": [
    "# 从唯一rf_id的表开始合并\n",
    "merged_df = pd.merge(assignment_df, assignment_conveyance_df, on='rf_id', how='outer')\n",
    "\n",
    "# 逐步合并有重复rf_id的表\n",
    "merged_df = pd.merge(merged_df, assignor_df, on='rf_id', how='outer')\n",
    "merged_df = pd.merge(merged_df, documentid_df, on='rf_id', how='outer')\n",
    "\n",
    "# 转换 exec_dt 和 grant_date 列为 datetime 类型\n",
    "merged_df['exec_dt'] = pd.to_datetime(merged_df['exec_dt'], errors='coerce')\n",
    "merged_df['grant_date'] = pd.to_datetime(merged_df['grant_date'], errors='coerce')\n",
    "\n",
    "# 筛选 exec_dt 晚于或等于 grant_date 的样本\n",
    "merged_df = merged_df[merged_df['exec_dt'] >= merged_df['grant_date']]\n",
    "# 筛选 exec_dt 位于 1990-2022 年的样本\n",
    "merged_df = merged_df[(merged_df['exec_dt'].dt.year >= 1990) & (merged_df['exec_dt'].dt.year <= 2022)]\n",
    "\n",
    "\n",
    "merged_df = pd.merge(merged_df, assignee_df, on='rf_id', how='outer')\n",
    "\n",
    "print(f\"初始总样本数: {len(merged_df)}\")"
   ]
  },
  {
   "cell_type": "code",
   "execution_count": null,
   "metadata": {
    "colab": {
     "base_uri": "https://localhost:8080/"
    },
    "executionInfo": {
     "elapsed": 27192,
     "status": "ok",
     "timestamp": 1713425139969,
     "user": {
      "displayName": "Christy",
      "userId": "07435429021048351607"
     },
     "user_tz": -480
    },
    "id": "gF3iCOfv_rF_",
    "outputId": "e9b18100-9c57-4317-eed3-a475b511c909"
   },
   "outputs": [
    {
     "name": "stdout",
     "output_type": "stream",
     "text": [
      "过滤缺失值的总样本数: 12138492\n"
     ]
    }
   ],
   "source": [
    "# 一次性删除所有指定的缺失值\n",
    "merged_df.dropna(subset=['rf_id', 'ee_name', 'or_name','convey_ty','grant_doc_num'], inplace=True)  # 先删除这些必须不为空的列\n",
    "# 删除 exec_dt 为空字符串的样本\n",
    "merged_df = merged_df[merged_df['exec_dt'] != '']\n",
    "print(f\"过滤缺失值的总样本数: {len(merged_df)}\")"
   ]
  },
  {
   "cell_type": "markdown",
   "metadata": {
    "id": "cesuPcXuAlP_"
   },
   "source": [
    "接下来，使用有效的 rf_id 列表筛选 merged_df"
   ]
  },
  {
   "cell_type": "code",
   "execution_count": null,
   "metadata": {
    "colab": {
     "base_uri": "https://localhost:8080/"
    },
    "executionInfo": {
     "elapsed": 3270,
     "status": "ok",
     "timestamp": 1713425283765,
     "user": {
      "displayName": "Christy",
      "userId": "07435429021048351607"
     },
     "user_tz": -480
    },
    "id": "rYfpm1xl_c2c",
    "outputId": "1fe1ab5b-416a-4d8d-b464-e06c75ead083"
   },
   "outputs": [
    {
     "name": "stdout",
     "output_type": "stream",
     "text": [
      "符合研究目的的有效样本数: 1740786\n"
     ]
    }
   ],
   "source": [
    "# 使用 final_valid_rf_ids 筛选 merged_df\n",
    "filtered_merged_df = merged_df[merged_df['rf_id'].isin(final_valid_rf_ids)]\n",
    "print(f\"符合研究目的的有效样本数: {len(filtered_merged_df)}\")"
   ]
  },
  {
   "cell_type": "code",
   "execution_count": null,
   "metadata": {
    "colab": {
     "base_uri": "https://localhost:8080/",
     "height": 692
    },
    "executionInfo": {
     "elapsed": 1896,
     "status": "ok",
     "timestamp": 1713425296166,
     "user": {
      "displayName": "Christy",
      "userId": "07435429021048351607"
     },
     "user_tz": -480
    },
    "id": "ld4CLIjPE6JK",
    "outputId": "9aff3fd8-1434-4f08-e813-5d8ef05a86f8"
   },
   "outputs": [
    {
     "name": "stderr",
     "output_type": "stream",
     "text": [
      "<ipython-input-14-396fade4ed33>:6: SettingWithCopyWarning: \n",
      "A value is trying to be set on a copy of a slice from a DataFrame.\n",
      "Try using .loc[row_indexer,col_indexer] = value instead\n",
      "\n",
      "See the caveats in the documentation: https://pandas.pydata.org/pandas-docs/stable/user_guide/indexing.html#returning-a-view-versus-a-copy\n",
      "  filtered_merged_df['exec_dt'] = pd.to_datetime(filtered_merged_df['exec_dt'])\n"
     ]
    },
    {
     "data": {
      "image/png": "[encoded data removed]",
      "text/plain": [
       "<Figure size 1000x600 with 1 Axes>"
      ]
     },
     "metadata": {},
     "output_type": "display_data"
    }
   ],
   "source": [
    "import pandas as pd\n",
    "import matplotlib.pyplot as plt\n",
    "import numpy as np\n",
    "\n",
    "# 确保'exec_dt'列是datetime类型\n",
    "filtered_merged_df['exec_dt'] = pd.to_datetime(filtered_merged_df['exec_dt'])\n",
    "\n",
    "# 提取年份并计算频次分布\n",
    "year_frequency = filtered_merged_df['exec_dt'].dt.year.value_counts().sort_index()\n",
    "\n",
    "# 筛选1990年至2023年的数据\n",
    "year_frequency = year_frequency[(year_frequency.index >= 1990) & (year_frequency.index <= 2022)]\n",
    "\n",
    "# 绘制频次分布直方图\n",
    "plt.figure(figsize=(10, 6))\n",
    "year_frequency.plot(kind='bar')\n",
    "plt.title('Frequency Distribution of exec_dt by Year (1990-2023)')\n",
    "plt.xlabel('Year')\n",
    "plt.ylabel('Frequency')\n",
    "\n",
    "# 设置横坐标标签显示步长，例如每5年显示一次\n",
    "plt.xticks(ticks=np.arange(len(year_frequency)), labels=year_frequency.index, rotation=45)\n",
    "\n",
    "plt.show()\n"
   ]
  },
  {
   "cell_type": "code",
   "execution_count": null,
   "metadata": {
    "colab": {
     "base_uri": "https://localhost:8080/"
    },
    "executionInfo": {
     "elapsed": 652,
     "status": "ok",
     "timestamp": 1713425321783,
     "user": {
      "displayName": "Christy",
      "userId": "07435429021048351607"
     },
     "user_tz": -480
    },
    "id": "TjO0Ty4HFHBM",
    "outputId": "292030ab-ecfd-405f-9e9c-50d6e8b4147c"
   },
   "outputs": [
    {
     "data": {
      "text/plain": [
       "0                          LADT CARROLL H.\n",
       "1                              JENSEN LEIF\n",
       "2                              JENSEN LEIF\n",
       "3                     PIZZICONI VINCENT B.\n",
       "4           HOFMANN-CERFONTAINE HELLMUT W.\n",
       "                         ...              \n",
       "12138410            VOMMCHEMIPHARMA S.R.L.\n",
       "12138411            VOMMCHEMIPHARMA S.R.L.\n",
       "12138491        CEDECO CONTRACTORS LIMITED\n",
       "12138492                  NICKELSON, DAN L\n",
       "12138493                  NICKELSON, DAN L\n",
       "Name: or_name, Length: 1740786, dtype: object"
      ]
     },
     "execution_count": 15,
     "metadata": {},
     "output_type": "execute_result"
    }
   ],
   "source": [
    "filtered_merged_df['or_name']"
   ]
  },
  {
   "cell_type": "code",
   "execution_count": null,
   "metadata": {
    "colab": {
     "base_uri": "https://localhost:8080/"
    },
    "executionInfo": {
     "elapsed": 396,
     "status": "ok",
     "timestamp": 1713425333456,
     "user": {
      "displayName": "Christy",
      "userId": "07435429021048351607"
     },
     "user_tz": -480
    },
    "id": "mjg2oR0AL8Fl",
    "outputId": "1b5aa681-ab50-4c15-cd19-e8ea903ba5ae"
   },
   "outputs": [
    {
     "name": "stdout",
     "output_type": "stream",
     "text": [
      "Number of missing values in 'exec_dt' column: 0\n"
     ]
    }
   ],
   "source": [
    "import pandas as pd\n",
    "\n",
    "# 计算exec_dt列中缺失值的个数\n",
    "missing_values_count = filtered_merged_df['exec_dt'].isna().sum()\n",
    "\n",
    "# 打印缺失值个数\n",
    "print(\"Number of missing values in 'exec_dt' column:\", missing_values_count)\n"
   ]
  },
  {
   "cell_type": "code",
   "execution_count": null,
   "metadata": {
    "colab": {
     "base_uri": "https://localhost:8080/"
    },
    "executionInfo": {
     "elapsed": 45877,
     "status": "ok",
     "timestamp": 1713425513698,
     "user": {
      "displayName": "Christy",
      "userId": "07435429021048351607"
     },
     "user_tz": -480
    },
    "id": "lL1dJY1uMTSo",
    "outputId": "db266fea-1204-452a-92c3-ff3526411915"
   },
   "outputs": [
    {
     "name": "stderr",
     "output_type": "stream",
     "text": [
      "<ipython-input-17-ef62526feabe>:2: SettingWithCopyWarning: \n",
      "A value is trying to be set on a copy of a slice from a DataFrame.\n",
      "Try using .loc[row_indexer,col_indexer] = value instead\n",
      "\n",
      "See the caveats in the documentation: https://pandas.pydata.org/pandas-docs/stable/user_guide/indexing.html#returning-a-view-versus-a-copy\n",
      "  filtered_merged_df['index'] = range(len(filtered_merged_df))\n"
     ]
    },
    {
     "name": "stdout",
     "output_type": "stream",
     "text": [
      "1740786\n"
     ]
    }
   ],
   "source": [
    "# 为merged_df增加一个索引列\n",
    "filtered_merged_df['index'] = range(len(filtered_merged_df))\n",
    "print(len(filtered_merged_df))\n",
    "# 如果需要，保存拼接后的表到新的CSV文件\n",
    "filtered_merged_df.to_csv('/content/drive/MyDrive/reassignment/reassignment_grant.csv', index=False)"
   ]
  },
  {
   "cell_type": "markdown",
   "metadata": {
    "id": "Y5-nFoH1NAe0"
   },
   "source": [
    "transaction_grant.csv中包含的是：\n",
    "\n",
    "1. 根据employer_assign字段剔除了first-assignment\n",
    "\n",
    "2. convey_type为「assignment」的real Patent transaction\n",
    "\n",
    "3. exec_date晚于等于grant_date;\n",
    "\n",
    "4. exec_year位于[1990-2022]\n",
    "\n",
    "5. 符合研究问题的有效rf_id"
   ]
  },
  {
   "cell_type": "code",
   "execution_count": null,
   "metadata": {
    "colab": {
     "base_uri": "https://localhost:8080/",
     "height": 585
    },
    "executionInfo": {
     "elapsed": 40647,
     "status": "ok",
     "timestamp": 1713396422703,
     "user": {
      "displayName": "Christy",
      "userId": "07435429021048351607"
     },
     "user_tz": -480
    },
    "id": "E0Hd0fhgXvVC",
    "outputId": "4a1444e4-9cdc-4d8d-e337-cd93100ff432"
   },
   "outputs": [
    {
     "data": {
      "image/png": "[encoded data removed]",
      "text/plain": [
       "<Figure size 1000x600 with 1 Axes>"
      ]
     },
     "metadata": {},
     "output_type": "display_data"
    }
   ],
   "source": [
    "import pandas as pd\n",
    "import matplotlib.pyplot as plt\n",
    "import numpy as np\n",
    "\n",
    "# 确保 exec_dt 是 datetime 类型\n",
    "merged_df['exec_dt'] = pd.to_datetime(merged_df['exec_dt'], errors='coerce', format='%Y-%m-%d')\n",
    "\n",
    "# 筛选条件：convey_ty 为 'assignment' 且 exec_dt 年份在 1998 到 2022 之间\n",
    "filtered_df = merged_df[\n",
    "    (merged_df['convey_ty'] == 'assignment') &\n",
    "    (merged_df['exec_dt'].dt.year >= 1990) &\n",
    "    (merged_df['exec_dt'].dt.year <= 2021)\n",
    "]\n",
    "\n",
    "# 提取年份并计算频次分布\n",
    "year_frequency = filtered_df['exec_dt'].dt.year.value_counts().sort_index()\n",
    "\n",
    "# 筛选1990年至2023年的数据\n",
    "year_frequency = year_frequency[(year_frequency.index >= 1990) & (year_frequency.index <= 2021)]\n",
    "\n",
    "# 绘制频次分布直方图\n",
    "plt.figure(figsize=(10, 6))\n",
    "year_frequency.plot(kind='bar')\n",
    "plt.title('Frequency Distribution of exec_dt by Year (1990-2023)')\n",
    "plt.xlabel('Year')\n",
    "plt.ylabel('Frequency')\n",
    "\n",
    "# 设置横坐标标签显示步长，例如每5年显示一次\n",
    "plt.xticks(ticks=np.arange(len(year_frequency)), labels=year_frequency.index, rotation=45)\n",
    "\n",
    "plt.show()\n"
   ]
  },
  {
   "cell_type": "markdown",
   "metadata": {
    "id": "-TmA31oB5vpf"
   },
   "source": [
    "存储无效的rf_id列表"
   ]
  },
  {
   "cell_type": "code",
   "execution_count": 18,
   "metadata": {
    "colab": {
     "base_uri": "https://localhost:8080/"
    },
    "executionInfo": {
     "elapsed": 4791,
     "status": "ok",
     "timestamp": 1713606852773,
     "user": {
      "displayName": "Christy",
      "userId": "07435429021048351607"
     },
     "user_tz": -480
    },
    "id": "DHcKvYkAYfd4",
    "outputId": "a28ecf27-b8f9-4bd0-8377-643d3436a2da"
   },
   "outputs": [
    {
     "name": "stdout",
     "output_type": "stream",
     "text": [
      "列表已保存到文件。\n"
     ]
    }
   ],
   "source": [
    "import pandas as pd\n",
    "import pickle\n",
    "\n",
    "# 假设 documentid_df 是已经加载的 DataFrame 并包含列 employer_assign 和 rf_id\n",
    "\n",
    "# 筛选出 employer_assign 为 1 的样本\n",
    "filtered_df = assignment_conveyance_df[assignment_conveyance_df['employer_assign'] == 1]\n",
    "\n",
    "# 将筛选出的样本中的 rf_id 值存储为一个列表\n",
    "firstassign_rfid1 = filtered_df['rf_id'].tolist()\n",
    "\n",
    "# 将列表保存到一个 pickle 文件中\n",
    "with open('/content/drive/MyDrive/addition_list/firstassign_rfid1.pkl', 'wb') as file:\n",
    "    pickle.dump(firstassign_rfid1, file)\n",
    "\n",
    "print(\"列表已保存到文件。\")\n"
   ]
  }
 ],
 "metadata": {
  "colab": {
   "authorship_tag": "ABX9TyP2cbBWrk9L/Tn7HQ2bwzd8",
   "machine_shape": "hm",
   "provenance": []
  },
  "kernelspec": {
   "display_name": "Python 3",
   "language": "python",
   "name": "python3"
  },
  "language_info": {
   "codemirror_mode": {
    "name": "ipython",
    "version": 3
   },
   "file_extension": ".py",
   "mimetype": "text/x-python",
   "name": "python",
   "nbconvert_exporter": "python",
   "pygments_lexer": "ipython3",
   "version": "3.8.5"
  }
 },
 "nbformat": 4,
 "nbformat_minor": 1
}
