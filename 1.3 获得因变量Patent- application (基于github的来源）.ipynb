{
 "cells": [
  {
   "cell_type": "code",
   "execution_count": 1,
   "metadata": {},
   "outputs": [
    {
     "name": "stdout",
     "output_type": "stream",
     "text": [
      "正在读取文件: /Users/wuxinyu/Library/CloudStorage/OneDrive-HKUST(Guangzhou)/毕业论文-Patent/data/raw/staticTranche1.csv\n"
     ]
    },
    {
     "name": "stderr",
     "output_type": "stream",
     "text": [
      "<ipython-input-1-17024370ca20>:23: DtypeWarning: Columns (3) have mixed types. Specify dtype option on import or set low_memory=False.\n",
      "  df = pd.read_csv(file)\n"
     ]
    },
    {
     "name": "stdout",
     "output_type": "stream",
     "text": [
      "正在读取文件: /Users/wuxinyu/Library/CloudStorage/OneDrive-HKUST(Guangzhou)/毕业论文-Patent/data/raw/staticTranche2.csv\n"
     ]
    },
    {
     "name": "stderr",
     "output_type": "stream",
     "text": [
      "<ipython-input-1-17024370ca20>:23: DtypeWarning: Columns (3) have mixed types. Specify dtype option on import or set low_memory=False.\n",
      "  df = pd.read_csv(file)\n"
     ]
    },
    {
     "name": "stdout",
     "output_type": "stream",
     "text": [
      "正在读取文件: /Users/wuxinyu/Library/CloudStorage/OneDrive-HKUST(Guangzhou)/毕业论文-Patent/data/raw/staticTranche3.csv\n"
     ]
    },
    {
     "name": "stderr",
     "output_type": "stream",
     "text": [
      "<ipython-input-1-17024370ca20>:23: DtypeWarning: Columns (3) have mixed types. Specify dtype option on import or set low_memory=False.\n",
      "  df = pd.read_csv(file)\n"
     ]
    },
    {
     "name": "stdout",
     "output_type": "stream",
     "text": [
      "正在读取文件: /Users/wuxinyu/Library/CloudStorage/OneDrive-HKUST(Guangzhou)/毕业论文-Patent/data/raw/staticTranche4.csv\n",
      "正在读取文件: /Users/wuxinyu/Library/CloudStorage/OneDrive-HKUST(Guangzhou)/毕业论文-Patent/data/raw/staticTranche5.csv\n",
      "正在读取文件: /Users/wuxinyu/Library/CloudStorage/OneDrive-HKUST(Guangzhou)/毕业论文-Patent/data/raw/staticTranche6.csv\n"
     ]
    },
    {
     "name": "stderr",
     "output_type": "stream",
     "text": [
      "<ipython-input-1-17024370ca20>:23: DtypeWarning: Columns (3) have mixed types. Specify dtype option on import or set low_memory=False.\n",
      "  df = pd.read_csv(file)\n"
     ]
    },
    {
     "name": "stdout",
     "output_type": "stream",
     "text": [
      "正在读取文件: /Users/wuxinyu/Library/CloudStorage/OneDrive-HKUST(Guangzhou)/毕业论文-Patent/data/raw/staticTranche7.csv\n"
     ]
    },
    {
     "name": "stderr",
     "output_type": "stream",
     "text": [
      "<ipython-input-1-17024370ca20>:23: DtypeWarning: Columns (3) have mixed types. Specify dtype option on import or set low_memory=False.\n",
      "  df = pd.read_csv(file)\n"
     ]
    },
    {
     "name": "stdout",
     "output_type": "stream",
     "text": [
      "正在读取文件: /Users/wuxinyu/Library/CloudStorage/OneDrive-HKUST(Guangzhou)/毕业论文-Patent/data/raw/staticTranche8.csv\n",
      "统计结果已保存到: /Users/wuxinyu/Library/CloudStorage/OneDrive-HKUST(Guangzhou)/毕业论文-Patent/data/intermediate/gvkey_year_patentcount.csv\n",
      "   gvkeyUO  appYear  patent_count\n",
      "0   1000.0     1964             2\n",
      "1   1000.0     1973             1\n",
      "2   1000.0     1974             1\n",
      "3   1000.0     1975             3\n",
      "4   1000.0     1976             2\n"
     ]
    }
   ],
   "source": [
    "import os\n",
    "import pandas as pd\n",
    "\n",
    "# 文件路径\n",
    "file_paths = [\n",
    "    \"/Users/wuxinyu/Library/CloudStorage/OneDrive-HKUST(Guangzhou)/毕业论文-Patent/data/raw/staticTranche1.csv\",\n",
    "    \"/Users/wuxinyu/Library/CloudStorage/OneDrive-HKUST(Guangzhou)/毕业论文-Patent/data/raw/staticTranche2.csv\",\n",
    "    \"/Users/wuxinyu/Library/CloudStorage/OneDrive-HKUST(Guangzhou)/毕业论文-Patent/data/raw/staticTranche3.csv\",\n",
    "    \"/Users/wuxinyu/Library/CloudStorage/OneDrive-HKUST(Guangzhou)/毕业论文-Patent/data/raw/staticTranche4.csv\",\n",
    "    \"/Users/wuxinyu/Library/CloudStorage/OneDrive-HKUST(Guangzhou)/毕业论文-Patent/data/raw/staticTranche5.csv\",\n",
    "    \"/Users/wuxinyu/Library/CloudStorage/OneDrive-HKUST(Guangzhou)/毕业论文-Patent/data/raw/staticTranche6.csv\",\n",
    "    \"/Users/wuxinyu/Library/CloudStorage/OneDrive-HKUST(Guangzhou)/毕业论文-Patent/data/raw/staticTranche7.csv\",\n",
    "    \"/Users/wuxinyu/Library/CloudStorage/OneDrive-HKUST(Guangzhou)/毕业论文-Patent/data/raw/staticTranche8.csv\"\n",
    "]\n",
    "\n",
    "# 用于存储合并后的数据\n",
    "all_data = []\n",
    "\n",
    "# 读取所有文件并合并\n",
    "for file in file_paths:\n",
    "    if os.path.exists(file):  # 检查文件是否存在\n",
    "        print(f\"正在读取文件: {file}\")\n",
    "        df = pd.read_csv(file)\n",
    "        \n",
    "        # 删除 gvkeyUO 为缺失值或空字符串的行\n",
    "        df_cleaned = df[df['gvkeyUO'].notnull() & (df['gvkeyUO'] != '')]\n",
    "        \n",
    "        # 将当前文件的数据添加到列表中\n",
    "        all_data.append(df_cleaned)\n",
    "    else:\n",
    "        print(f\"文件不存在: {file}\")\n",
    "\n",
    "# 合并所有文件的数据\n",
    "merged_data = pd.concat(all_data, ignore_index=True)\n",
    "\n",
    "# 去重：删除重复的 (gvkeyUO, appYear, patent_id) 组合\n",
    "merged_data = merged_data.drop_duplicates(subset=['gvkeyUO', 'appYear', 'patent_id'])\n",
    "\n",
    "# 按 gvkeyUO 和 appYear 分组，并统计每组的专利数量\n",
    "patent_counts = merged_data.groupby(['gvkeyUO', 'appYear']).size().reset_index(name='patent_count')\n",
    "\n",
    "# 如果需要，可以将结果保存为新的 CSV 文件\n",
    "output_path = \"/Users/wuxinyu/Library/CloudStorage/OneDrive-HKUST(Guangzhou)/毕业论文-Patent/data/intermediate/gvkey_year_patentcount.csv\"\n",
    "patent_counts.to_csv(output_path, index=False)\n",
    "\n",
    "# 输出前几行查看\n",
    "print(f\"统计结果已保存到: {output_path}\")\n",
    "print(patent_counts.head())\n"
   ]
  },
  {
   "cell_type": "code",
   "execution_count": 2,
   "metadata": {},
   "outputs": [
    {
     "name": "stdout",
     "output_type": "stream",
     "text": [
      "   gvkey    datadate  fyear compst curcd  scf      act       at    capx  \\\n",
      "0   1004  1998-05-31   1997    NaN   USD  7.0  468.400  670.559  17.495   \n",
      "1   1004  1999-05-31   1998    NaN   USD  7.0  508.186  726.630  36.131   \n",
      "2   1004  2000-05-31   1999    NaN   USD  7.0  511.267  740.998  22.344   \n",
      "3   1004  2001-05-31   2000    NaN   USD  7.0  485.856  701.854  13.134   \n",
      "4   1004  2002-05-31   2001    NaN   USD  7.0  436.656  710.199  12.112   \n",
      "\n",
      "       ch  ...  number_MFTevent_ScienceUtility  is_ScienceAcquire  \\\n",
      "0  17.222  ...                               0                  0   \n",
      "1   8.250  ...                               0                  0   \n",
      "2   1.241  ...                               0                  0   \n",
      "3  13.809  ...                               0                  0   \n",
      "4  34.522  ...                               0                  0   \n",
      "\n",
      "   number_MFTevent_NonScienceUtility  is_NonScienceAcquire  \\\n",
      "0                                  0                     0   \n",
      "1                                  0                     0   \n",
      "2                                  0                     0   \n",
      "3                                  0                     0   \n",
      "4                                  0                     0   \n",
      "\n",
      "   number_MFTevent_UniversityUtility  is_UniversityAcquire  \\\n",
      "0                                  0                     0   \n",
      "1                                  0                     0   \n",
      "2                                  0                     0   \n",
      "3                                  0                     0   \n",
      "4                                  0                     0   \n",
      "\n",
      "   is_linkedto_boardex  gvkeyUO  appYear  patent_count  \n",
      "0                    1      NaN      NaN           NaN  \n",
      "1                    1      NaN      NaN           NaN  \n",
      "2                    1      NaN      NaN           NaN  \n",
      "3                    1      NaN      NaN           NaN  \n",
      "4                    1      NaN      NaN           NaN  \n",
      "\n",
      "[5 rows x 52 columns]\n"
     ]
    }
   ],
   "source": [
    "import pandas as pd\n",
    "\n",
    "# 读取 benchmark1-有IV有DV1.xlsx 主表\n",
    "benchmark_df = pd.read_excel(\"/Users/wuxinyu/Library/CloudStorage/OneDrive-HKUST(Guangzhou)/patent/data/intermediate/benchmark1_Updated.xlsx\")\n",
    "\n",
    "# 读取 gvkey_year_patentcount.csv\n",
    "patentcount_df = pd.read_csv(\"/Users/wuxinyu/Library/CloudStorage/OneDrive-HKUST(Guangzhou)/毕业论文-Patent/data/intermediate/gvkey_year_patentcount.csv\")\n",
    "\n",
    "# 合并操作：根据 'gvkey' 和 'fyear' 合并 'patent_count' 列\n",
    "merged_df = pd.merge(benchmark_df, patentcount_df[['gvkeyUO', 'appYear', 'patent_count']], \n",
    "                     left_on=['gvkey', 'fyear'], right_on=['gvkeyUO', 'appYear'], \n",
    "                     how='left')\n",
    "\n",
    "# 检查合并后的数据\n",
    "print(merged_df.head())\n",
    "\n",
    "# 如果需要，可以将合并后的结果保存到新的文件\n",
    "merged_df.to_excel(\"/Users/wuxinyu/Library/CloudStorage/OneDrive-HKUST(Guangzhou)/毕业论文-Patent/data/used/benchmark_innovation_Updated.xlsx\", index=False)\n"
   ]
  },
  {
   "cell_type": "code",
   "execution_count": null,
   "metadata": {},
   "outputs": [],
   "source": []
  },
  {
   "cell_type": "code",
   "execution_count": null,
   "metadata": {},
   "outputs": [],
   "source": []
  }
 ],
 "metadata": {
  "kernelspec": {
   "display_name": "Python 3",
   "language": "python",
   "name": "python3"
  },
  "language_info": {
   "codemirror_mode": {
    "name": "ipython",
    "version": 3
   },
   "file_extension": ".py",
   "mimetype": "text/x-python",
   "name": "python",
   "nbconvert_exporter": "python",
   "pygments_lexer": "ipython3",
   "version": "3.8.5"
  }
 },
 "nbformat": 4,
 "nbformat_minor": 4
}
